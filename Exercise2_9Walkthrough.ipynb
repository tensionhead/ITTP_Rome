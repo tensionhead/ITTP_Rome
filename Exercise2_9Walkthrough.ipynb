{
 "cells": [
  {
   "cell_type": "markdown",
   "metadata": {},
   "source": [
    "#### Solution Exercise 2.8"
   ]
  },
  {
   "cell_type": "code",
   "execution_count": 14,
   "metadata": {},
   "outputs": [],
   "source": [
    "\n",
    "def go_shopping(shopping_list):\n",
    "    \n",
    "    for key in shopping_list:\n",
    "        s = f'I need to buy {shopping_list[key]} {key}'\n",
    "        print(s)\n",
    "    \n",
    "shopping_list = {'bread' : 1, 'potatoes' : 10, 'eggs' : 12, 'flour' : 1,\n",
    "            'rubber duck' : 2, 'pizza' : 5, 'milk' : 1}\n",
    "birthday_shopping = {'candles' : 7, 'cakes' : 2}\n"
   ]
  },
  {
   "cell_type": "code",
   "execution_count": 16,
   "metadata": {},
   "outputs": [
    {
     "name": "stdout",
     "output_type": "stream",
     "text": [
      "I need to buy 1 bread\n",
      "I need to buy 10 potatoes\n",
      "I need to buy 12 eggs\n",
      "I need to buy 1 flour\n",
      "I need to buy 2 rubber duck\n",
      "I need to buy 5 pizza\n",
      "I need to buy 1 milk\n"
     ]
    }
   ],
   "source": [
    "go_shopping(shopping_list)"
   ]
  },
  {
   "cell_type": "code",
   "execution_count": 15,
   "metadata": {},
   "outputs": [
    {
     "name": "stdout",
     "output_type": "stream",
     "text": [
      "I need to buy 7 candles\n",
      "I need to buy 2 cakes\n"
     ]
    }
   ],
   "source": [
    "go_shopping(birthday_shopping)"
   ]
  },
  {
   "cell_type": "markdown",
   "metadata": {},
   "source": [
    "#### Solution Exercise 2.9"
   ]
  },
  {
   "cell_type": "code",
   "execution_count": null,
   "metadata": {},
   "outputs": [],
   "source": [
    "# this is a global constant\n",
    "target_store = {'ice cream' : 12, 'cookies' : 10, 'coffee' : 20, 'milk' : 4, 'sugar' : 2}\n",
    "# --- globals end ---\n",
    "\n",
    "# this is what we start with\n",
    "storage = {'ice cream' : 4, 'cookies' : 7, 'coffee' : 9, 'milk' : 3, 'sugar' : 2}\n",
    "\n",
    "# we treat the target_store as a global constant\n",
    "# our function takes only one argument:\n",
    "\n",
    "def fill_storage(storage):\n",
    "    \n",
    "    for key in target_store:\n",
    "        # calculate how much we need to buy\n",
    "        difference = target_store[key] - storage[key]\n",
    "        print( f'We need to buy {difference} {key}')\n",
    "        \n",
    "        # buy the correct amount\n",
    "        storage[key] = storage[key] + difference\n",
    "\n",
    "fill_storage(storage)\n",
    "print('2nd run:')\n",
    "fill_storage(storage)"
   ]
  },
  {
   "cell_type": "markdown",
   "metadata": {},
   "source": [
    "#### Solution Exercise 2.9 Bonus"
   ]
  },
  {
   "cell_type": "code",
   "execution_count": 13,
   "metadata": {},
   "outputs": [
    {
     "name": "stdout",
     "output_type": "stream",
     "text": [
      "All done, we paid 96.57 EUR in total!\n",
      "2nd run:\n",
      "All done, we paid 0.00 EUR in total!\n"
     ]
    }
   ],
   "source": [
    "# --- these are global constants ---\n",
    "target_store = {'ice cream' : 12, 'cookies' : 10, 'coffee' : 20, 'milk' : 4, 'sugar' : 2}\n",
    "price_list = { 'coffee' : 4.70, 'milk' : 1.20, 'sugar' : 0.70, 'ice cream' : 3.40, 'cookies' : 5.49}\n",
    "# --- globals end ---\n",
    "\n",
    "# this is what we start with\n",
    "storage = {'ice cream' : 4, 'cookies' : 7, 'coffee' : 9, 'milk' : 3, 'sugar' : 2}\n",
    "\n",
    "# we treat the target_store as a global constant\n",
    "# our function takes only one argument:\n",
    "\n",
    "def fill_storage(storage):\n",
    "    \n",
    "    total_expenses = 0\n",
    "    for key in target_store:\n",
    "        # calculate how much we need to buy\n",
    "        difference = target_store[key] - storage[key]\n",
    "        \n",
    "        # calculate how much we have to pay \n",
    "        expense = difference * price_list[key]\n",
    "        # update what we paid so far in total\n",
    "        total_expenses = total_expenses + expense\n",
    "        \n",
    "        # buy the correct amount\n",
    "        storage[key] = storage[key] + difference\n",
    "        \n",
    "    print(f'All done, we paid {total_expenses:.2f} EUR in total!')\n",
    "\n",
    "fill_storage(storage)\n",
    "print('2nd run:')\n",
    "fill_storage(storage)"
   ]
  }
 ],
 "metadata": {
  "kernelspec": {
   "display_name": "Python 3",
   "language": "python",
   "name": "python3"
  },
  "language_info": {
   "codemirror_mode": {
    "name": "ipython",
    "version": 3
   },
   "file_extension": ".py",
   "mimetype": "text/x-python",
   "name": "python",
   "nbconvert_exporter": "python",
   "pygments_lexer": "ipython3",
   "version": "3.6.7"
  }
 },
 "nbformat": 4,
 "nbformat_minor": 2
}
