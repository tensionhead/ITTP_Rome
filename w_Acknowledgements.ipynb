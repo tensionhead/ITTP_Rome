{
 "cells": [
  {
   "cell_type": "markdown",
   "metadata": {},
   "source": [
    "## Acknowledgements"
   ]
  },
  {
   "cell_type": "markdown",
   "metadata": {},
   "source": [
    "Handouts provided by EMBL Heidelberg Photolab (Many thanks to Udo Ringeisen and colleagues)\n",
    "\n",
    "EMBL logo &copy; EMBL Heidelberg\n",
    "\n",
    "License: [CC BY-NC-SA 4.0](https://creativecommons.org/licenses/by-nc-sa/4.0/)\n",
    "\n",
    "These materials are based on the original course written by Peter D Ashton (University of York), with additional material added/updated by members of the EMBL Bio-IT community, including:\n",
    "\n",
    "- Toby Hodges\n",
    "- Holger Dinkel\n",
    "- Karin Sasaki\n",
    "- Marc Gouw\n",
    "- Malvika Sharan\n",
    "- Renato Alves\n",
    "- Gregor Mönke"
   ]
  }
 ],
 "metadata": {
  "kernelspec": {
   "display_name": "Python 3",
   "language": "python",
   "name": "python3"
  },
  "language_info": {
   "codemirror_mode": {
    "name": "ipython",
    "version": 3
   },
   "file_extension": ".py",
   "mimetype": "text/x-python",
   "name": "python",
   "nbconvert_exporter": "python",
   "pygments_lexer": "ipython3",
   "version": "3.6.7"
  }
 },
 "nbformat": 4,
 "nbformat_minor": 2
}
