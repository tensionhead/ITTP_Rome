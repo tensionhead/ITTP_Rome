{
 "cells": [
  {
   "cell_type": "markdown",
   "metadata": {},
   "source": [
    "## Links"
   ]
  },
  {
   "cell_type": "markdown",
   "metadata": {},
   "source": [
    "### Resources\n",
    "- [https://docs.python.org/3/tutorial](https://docs.python.org/3/tutorial) - Python Tutorial\n",
    "- [http://www.learnpython.org](http://www.learnpython.org) - Another, interactive, Python tutorial\n",
    "- [http://awesome-python.com](http://awesome-python.com) - A curated list of awesome Python frameworks, libraries, software and resources \n",
    "- [https://github.com/rasbt/python_reference](https://github.com/rasbt/python_reference) - Useful functions, tutorials, and other Python-related things \n",
    "- [http://stackoverflow.com/questions/tagged/python](http://stackoverflow.com/questions/tagged/python) - Search a history of thousands of questions and answers from frustrated programmers\n",
    "- [http://pythontutor.com](http://pythontutor.com) - Visually inspect what happens when running Python step by step.\n",
    "- [http://pbpython.com/effective-matplotlib.html](http://pbpython.com/effective-matplotlib.html) - A blogpost describing an approach to using `matplotlib` to plot data. Highly recommended for newcomers, to remove some of the potential frustrations of learning to use this very powerful plotting library.\n",
    "- [http://adventofcode.com](http://adventofcode.com/) - Christmas-themed programming challenges, ranging in difficulty.\n",
    "\n",
    "### Books\n",
    "- [http://www.onlineprogrammingbooks.com/python](http://www.onlineprogrammingbooks.com/python)\n",
    "- [http://www.diveintopython3.net](http://www.diveintopython3.net)\n",
    "- [http://www.greenteapress.com/thinkpython/thinkpython.pdf](http://www.greenteapress.com/thinkpython/thinkpython.pdf)\n",
    "- [http://learnpythonthehardway.org/book](http://learnpythonthehardway.org/book)\n",
    "- [http://python.swaroopch.com/](http://python.swaroopch.com/)\n",
    "\n",
    "### Videos\n",
    "- [https://github.com/s16h/py-must-watch](https://github.com/s16h/py-must-watch)\n",
    "- [https://www.fullstackpython.com/best-python-videos.html](https://www.fullstackpython.com/best-python-videos.html)\n",
    "\n",
    "### Bioinformatics\n",
    "- [http://rosalind.info](http://rosalind.info) Rosalind is a platform for learning bioinformatics and programming through problem solving\n"
   ]
  }
 ],
 "metadata": {
  "kernelspec": {
   "display_name": "Python 3",
   "language": "python",
   "name": "python3"
  },
  "language_info": {
   "codemirror_mode": {
    "name": "ipython",
    "version": 3
   },
   "file_extension": ".py",
   "mimetype": "text/x-python",
   "name": "python",
   "nbconvert_exporter": "python",
   "pygments_lexer": "ipython3",
   "version": "3.6.2"
  }
 },
 "nbformat": 4,
 "nbformat_minor": 1
}
