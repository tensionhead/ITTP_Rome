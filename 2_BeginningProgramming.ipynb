{
 "cells": [
  {
   "cell_type": "markdown",
   "metadata": {},
   "source": [
    "# Introduction to Python Programming"
   ]
  },
  {
   "cell_type": "markdown",
   "metadata": {},
   "source": [
    "## 2. Beginning Programming"
   ]
  },
  {
   "cell_type": "markdown",
   "metadata": {},
   "source": [
    "### 2.1 Looping"
   ]
  },
  {
   "cell_type": "markdown",
   "metadata": {},
   "source": [
    "Writing computer programs often has the purpose to automate tedious tasks. For humans, exactly repeating a certain (simple) procedure over and over again is quite unsatisfying, slow and potentially error prone. Computer programs on the other side really shine here. In programming the instruction to repeat an operation is called a *loop*.   \n",
    "Start by entering the following code:"
   ]
  },
  {
   "cell_type": "code",
   "execution_count": null,
   "metadata": {
    "collapsed": true
   },
   "outputs": [],
   "source": [
    "shopping_list = ['bread', 'potatoes', 'eggs', 'flour', 'rubber duck', 'pizza', 'milk']\n",
    "for item in shopping_list:\n",
    "    print('we bought',item)"
   ]
  },
  {
   "cell_type": "markdown",
   "metadata": {},
   "source": [
    "This is very simple program, which first creates a variable (`shopping_list`) that refers to a list and then prints out each of the items in turn. Let's analyse the code to see how it works.\n",
    "\n",
    "Firstly, the `for` statement creates a variable called `item` followed by the keyword `in` and ends with a colon. This initializes the _for loop_ over the list `shopping_list`. The next line is _indented_ and is called the *loop body*. This is the part of the code that gets repeated. In that simple example the loop body consists of only a single line, in practice loop bodies can be quite large. To better understand the flow of the program, let's change it a bit:"
   ]
  },
  {
   "cell_type": "code",
   "execution_count": null,
   "metadata": {
    "collapsed": true
   },
   "outputs": [],
   "source": [
    "loop_count = 0\n",
    "print('We go shopping for', len(shopping_list), 'items:')\n",
    "# starting to loop\n",
    "for item in shopping_list:\n",
    "    print('we bought',item)\n",
    "    \n",
    "    # increment the counter\n",
    "    loop_count = loop_count + 1 \n",
    "    \n",
    "    # calculate how many items are left\n",
    "    items_left = len(shopping_list) - loop_count\n",
    "    \n",
    "    print(items_left, 'to go!' )\n",
    "\n",
    "# outside the loop body\n",
    "print('All done :]')"
   ]
  },
  {
   "cell_type": "markdown",
   "metadata": {},
   "source": [
    "In this slightly more complex example, both variables `item` and `loop_count` change with every *iteration* of the loop. Note however, that the length of the `shopping_list` does not change. The final `print` statement of the above code is un-indented and therefore outside the for-loop.  Take your time and try to recapitulate what the computer is doing here, line by line from code to output.\n",
    "\n",
    "*Note: Manually incrementing a counter is considered un-pythonic and solely serves the purpose to better expose the inner workings of the loop here. If you really need a counter, use `enumerate(some_list)`.*"
   ]
  },
  {
   "cell_type": "markdown",
   "metadata": {},
   "source": [
    "Whenever we want to execute a bit of Python code several times, a for loop is one of the ways that we can do it.  Python recognises the lines we want to form part of the loop body by the level of indentation and it is vital that you maintain consistent indentation throughout your programs. For example, you can choose to indent lines of code with spaces or with tabs but, whichever one you choose, you should only use one or the other for your whole program. Also, make sure that you keep the amount of indentation consistent across all the levels in your code. You will find that this approach makes your programs easier to read and understand, because you can see the structure of the program at a glance by the indentation."
   ]
  },
  {
   "cell_type": "markdown",
   "metadata": {},
   "source": [
    "#### _Exercise 2.1_"
   ]
  },
  {
   "cell_type": "markdown",
   "metadata": {},
   "source": [
    "Change the program above (1st shorter version) by adding a second list (called say `fridge`) to the program, which contains cheese, flour, eggs, spaghetti, sausages and bread.  Change the loop so that instead of printing each element, it appends it to the new `fridge` list.  Then, at the end, print out that extended `fridge` list."
   ]
  },
  {
   "cell_type": "markdown",
   "metadata": {},
   "source": [
    "### 2.2 Making Decisions - Conditionals"
   ]
  },
  {
   "cell_type": "markdown",
   "metadata": {},
   "source": [
    "Don’t look at this if you haven’t done the exercise above. My solution:"
   ]
  },
  {
   "cell_type": "code",
   "execution_count": null,
   "metadata": {
    "collapsed": true
   },
   "outputs": [],
   "source": [
    "shopping_list = ['bread', 'potatoes', 'eggs', 'flour', 'rubber duck', 'pizza', 'milk']\n",
    "fridge = ['cheese', 'flour', 'eggs', 'spaghetti', 'sausages', 'bread']\n",
    "for item in shopping_list:\n",
    "    fridge.append(item)\n",
    "print(fridge)"
   ]
  },
  {
   "cell_type": "markdown",
   "metadata": {},
   "source": [
    "This looks like it’s worked exactly as I described, but maybe not quite as I intended.  We seem to have too many eggs and too much bread in our fridge now. This might not be a problem (and it does show that the same value can be present in a list more than once), but I really just want one copy of each item.  To achieve this, we need to include a check before we add an element to the list, to make sure that the value isn’t in there already. \n",
    "\n",
    "Fortunately, Python lets us do this really easily.  For an example of this, execute the following cells:"
   ]
  },
  {
   "cell_type": "code",
   "execution_count": null,
   "metadata": {
    "collapsed": true
   },
   "outputs": [],
   "source": [
    "fridge = ['eggs', 'cheese', 'milk']"
   ]
  },
  {
   "cell_type": "code",
   "execution_count": null,
   "metadata": {
    "collapsed": true
   },
   "outputs": [],
   "source": [
    "'eggs' in fridge"
   ]
  },
  {
   "cell_type": "code",
   "execution_count": null,
   "metadata": {
    "collapsed": true
   },
   "outputs": [],
   "source": [
    "'frogs' in fridge"
   ]
  },
  {
   "cell_type": "code",
   "execution_count": null,
   "metadata": {
    "collapsed": true
   },
   "outputs": [],
   "source": [
    "'frogs' not in fridge"
   ]
  },
  {
   "cell_type": "markdown",
   "metadata": {},
   "source": [
    "Here we see some python *magic* at work, a simple and concise \n",
    "```Python\n",
    "item in sequence\n",
    "```\n",
    "or\n",
    "```Python\n",
    "item not in sequence\n",
    "```\n",
    "magically checks the whole list if that item is present (or not). \n",
    "\n",
    "#### Booleans\n",
    "\n",
    "We can also bind the result of such a check to a variable:"
   ]
  },
  {
   "cell_type": "code",
   "execution_count": null,
   "metadata": {
    "collapsed": true
   },
   "outputs": [],
   "source": [
    "frogs_in = 'frogs' in fridge\n",
    "print(frogs_in) # result of the check\n",
    "print( type(frogs_in) ) # show type of the result"
   ]
  },
  {
   "cell_type": "markdown",
   "metadata": {},
   "source": [
    "Here we met an important new type of variables: *boolean*. That is a special type which only holds two different values ```True``` or ```False```. These are exactly the two possible (logical) outcomes if testing for a condition, e.g. *is it raining?*.\n",
    "\n",
    "Python also returns all standard logical expressions as booleans:"
   ]
  },
  {
   "cell_type": "code",
   "execution_count": null,
   "metadata": {
    "collapsed": true
   },
   "outputs": [],
   "source": [
    "print(3 > 5) # comparison\n",
    "print(12 == 12) # tests for equality, note the '==' instead of a single '='\n",
    "print(3 >= 3) # greater than or equal "
   ]
  },
  {
   "cell_type": "markdown",
   "metadata": {},
   "source": [
    "These comparison operators also work for other data types, let's look at a few examples:"
   ]
  },
  {
   "cell_type": "code",
   "execution_count": null,
   "metadata": {
    "collapsed": true
   },
   "outputs": [],
   "source": [
    "print( 'blue' != 'red' ) # test for string inequality\n",
    "print ( [1,2,3] == [1,2,3] ) # tests lists element-wise\n",
    "print ( [1,2,3] == [1,2,1] ) # for equality"
   ]
  },
  {
   "cell_type": "markdown",
   "metadata": {},
   "source": [
    "The cheat sheet should give you an overview about the common comparison operators. Now that we have a better understanding how we can encode `True` and `False` statements, let's have a look how to make use of it."
   ]
  },
  {
   "cell_type": "markdown",
   "metadata": {},
   "source": [
    "### if-else statements\n",
    "\n",
    "To further control the flow of the program, `if` and `else` statements are extremely useful. Here is how they work in pseudo code:\n",
    "```Python\n",
    "\n",
    "if condition:\n",
    "    do sth..\n",
    "else: # optional alternative\n",
    "    do sth different..\n",
    "```\n",
    "It's important to understand that `condition` gets evaluated by the interpreter as a boolean variable. We also notice the the same indented block structure as used in the for loops. Let's start easy by putting a boolean in an if-statement directly: "
   ]
  },
  {
   "cell_type": "code",
   "execution_count": null,
   "metadata": {
    "collapsed": true
   },
   "outputs": [],
   "source": [
    "fridge = ['eggs', 'cheese', 'milk']\n",
    "frogs_in = 'frogs' in fridge\n",
    "if frogs_in:\n",
    "    print('Aah, something is wrong in the fridge!')    "
   ]
  },
  {
   "cell_type": "markdown",
   "metadata": {},
   "source": [
    "Note that nothing gets printed, as the variable `frogs_in` has the value `False`. To provide an alternative action if the if-condition is not met, we can use `else`:"
   ]
  },
  {
   "cell_type": "code",
   "execution_count": null,
   "metadata": {
    "collapsed": true
   },
   "outputs": [],
   "source": [
    "if frogs_in:\n",
    "    print(\"Aah, what's going on in the fridge?\") \n",
    "else:\n",
    "    print('Phew, no frogs in sight.')"
   ]
  },
  {
   "cell_type": "markdown",
   "metadata": {},
   "source": [
    "This works as expected, right? Now in most real world examples, you don't test directly for the value of a boolean variable, but instead write the condition as an expression:"
   ]
  },
  {
   "cell_type": "code",
   "execution_count": null,
   "metadata": {
    "collapsed": true
   },
   "outputs": [],
   "source": [
    "if 'frogs' in fridge:\n",
    "    print(\"Aah, what's going on in the fridge?\")\n",
    "else:\n",
    "    print('Phew, no frogs in sight.')"
   ]
  },
  {
   "cell_type": "markdown",
   "metadata": {},
   "source": [
    "Python will internally evaluate your condition as a boolean, which in most cases exactly what you want. Also note that we can write the if-statement by using the `in` magic almost like we use everyday language. This readability is a design goal of the Python language. Here is an example where the if-condition is `True`:"
   ]
  },
  {
   "cell_type": "code",
   "execution_count": null,
   "metadata": {
    "collapsed": true
   },
   "outputs": [],
   "source": [
    "if 'eggs' in fridge:\n",
    "    print('Yeah, we have eggs!')\n",
    "else:\n",
    "    print('Oh no, out of eggs..')"
   ]
  },
  {
   "cell_type": "markdown",
   "metadata": {},
   "source": [
    "If you want to check additional conditions the keyword `elif` can be used:"
   ]
  },
  {
   "cell_type": "code",
   "execution_count": null,
   "metadata": {
    "collapsed": true
   },
   "outputs": [],
   "source": [
    "if 'frogs' in fridge:\n",
    "    print(\"Aah, what's going on in the fridge?\")\n",
    "elif 'eggs' in fridge:\n",
    "    print(\"Cool, we have cheese and no frogs.\")\n",
    "else:\n",
    "    print(\"Ok no frogs, but also no eggs.\")"
   ]
  },
  {
   "cell_type": "markdown",
   "metadata": {},
   "source": [
    "#### Boolean Evaluations\n",
    "\n",
    "Boolean evaluation can be a bit tricky, luckily you can directly direct the interpreter to evaluate an arbitrary expression as a boolean by writing `bool( my expression )`. This is what internally happens to the `condition` behind an `if` in the code. Let's look at a few examples:"
   ]
  },
  {
   "cell_type": "code",
   "execution_count": null,
   "metadata": {
    "collapsed": true
   },
   "outputs": [],
   "source": [
    "bool('some string') "
   ]
  },
  {
   "cell_type": "code",
   "execution_count": null,
   "metadata": {
    "collapsed": true
   },
   "outputs": [],
   "source": [
    "bool('False')"
   ]
  },
  {
   "cell_type": "code",
   "execution_count": null,
   "metadata": {
    "collapsed": true
   },
   "outputs": [],
   "source": [
    "bool(False)"
   ]
  },
  {
   "cell_type": "code",
   "execution_count": null,
   "metadata": {
    "collapsed": true
   },
   "outputs": [],
   "source": [
    "bool(312)"
   ]
  },
  {
   "cell_type": "code",
   "execution_count": null,
   "metadata": {
    "collapsed": true
   },
   "outputs": [],
   "source": [
    "bool(0)"
   ]
  },
  {
   "cell_type": "code",
   "execution_count": null,
   "metadata": {
    "collapsed": true
   },
   "outputs": [],
   "source": [
    "bool( ['a', 'list', 'with', 'some', 'items'] )"
   ]
  },
  {
   "cell_type": "code",
   "execution_count": null,
   "metadata": {
    "collapsed": true
   },
   "outputs": [],
   "source": [
    "bool( [] ) # empty list"
   ]
  },
  {
   "cell_type": "code",
   "execution_count": null,
   "metadata": {
    "collapsed": true
   },
   "outputs": [],
   "source": [
    "bool( '' ) # empty string"
   ]
  },
  {
   "cell_type": "markdown",
   "metadata": {},
   "source": [
    "Maybe you were a bit surprised by the one or other result of these evaluations? In practice when using if-statements together with more complicated expressions, unforeseen things can and will happen. Don't forget that you can always go outside of your main program code and interactively test what is going on. [Here](https://docs.python.org/3/library/stdtypes.html#truth-value-testing) you can find further information regarding boolean logic in Python."
   ]
  },
  {
   "cell_type": "markdown",
   "metadata": {},
   "source": [
    "#### Nesting if-statements inside a Loop\n",
    "Finally we can use all what we just learned, membership testing with `in`, boolean variables and if-statements to shop only for the things we really need:"
   ]
  },
  {
   "cell_type": "code",
   "execution_count": null,
   "metadata": {
    "collapsed": true
   },
   "outputs": [],
   "source": [
    "shopping_list = ['bread', 'potatoes', 'eggs', 'flour', 'rubber duck', 'pizza', 'milk']\n",
    "fridge = ['cheese', 'flour', 'eggs', 'spaghetti', 'sausages', 'bread']\n",
    "for item in shopping_list:\n",
    "    \n",
    "    if item not in fridge:\n",
    "        fridge.append(item)\n",
    "        \n",
    "print(fridge)"
   ]
  },
  {
   "cell_type": "markdown",
   "metadata": {},
   "source": [
    "Much better.  A couple of points to notice with the indentation.  The `if` statement is indented with respect to the `for` statement, so it will be executed every time the loop executes.  The `.append` method call is indented with respect to the `if` statement, and so it will only be executed if the condition in the `if` statement (i.e., `item not in shopping_list`) is true."
   ]
  },
  {
   "cell_type": "markdown",
   "metadata": {},
   "source": [
    "#### _Exercise 2.2_"
   ]
  },
  {
   "cell_type": "markdown",
   "metadata": {},
   "source": [
    "(i) Change the program above to print out a message when a duplicate item is found.  To do this, you can add an `else:` clause to the existing `if` statement to see if the item is in the `fridge` list. Alternatively, you could add another `if` statement.\n",
    "\n",
    "(ii) Let's say someone at home really likes cheese, so that there can't be enough of it in the fridge. Change the program so that it's always possible to shop for cheese. You using the `.count()` method for lists, show that there are indeed now two cheeses present in `fridge`."
   ]
  },
  {
   "cell_type": "markdown",
   "metadata": {},
   "source": [
    "### Counting Loops"
   ]
  },
  {
   "cell_type": "markdown",
   "metadata": {},
   "source": [
    "Looping over elements of a list is great, but there are other circumstances where you just want to do something a set number of times.  Most programming languages have a `for` statement which does exactly this, but Python doesn’t.  Fortunately, Python has a function which generates a list of numbers for us to use in a `for` loop.  Go to the Python shell and type:"
   ]
  },
  {
   "cell_type": "code",
   "execution_count": null,
   "metadata": {
    "collapsed": true
   },
   "outputs": [],
   "source": [
    "range(10)"
   ]
  },
  {
   "cell_type": "markdown",
   "metadata": {},
   "source": [
    "The `range()` function gives a `Range` object, which can be used to generate a list of integers. In Python 2 `range()` directly creates a list of integers instead of a `Range` generator, which is technically slightly different. In either case, a loop like this:"
   ]
  },
  {
   "cell_type": "code",
   "execution_count": null,
   "metadata": {
    "collapsed": true
   },
   "outputs": [],
   "source": [
    "for i in range(10):\n",
    "    print(i)"
   ]
  },
  {
   "cell_type": "markdown",
   "metadata": {},
   "source": [
    "prints out the numbers 0 to 9 one to a line.  You can use the `range` function to produce most lists of numbers that you might need."
   ]
  },
  {
   "cell_type": "markdown",
   "metadata": {},
   "source": [
    "*__Note__ At first glance, it might seem inconvenient that you don't get a list as output from the `range()` function in Python 3. The reason behind this is that the `Range` object is a much faster and more efficient way of generating values that will be looped through one-at-a-time, and this is the aim of the vast majority of calls to the `range()` function.*\n",
    "\n",
    "If you do actually want to create a full list of integer values in a range, in Python 3 you can pass the use of `range()` into the explicit initialisation of a list as below:"
   ]
  },
  {
   "cell_type": "code",
   "execution_count": null,
   "metadata": {
    "collapsed": true
   },
   "outputs": [],
   "source": [
    "range_list = list(range(10)) # or\n",
    "range_list = [range(10)]"
   ]
  },
  {
   "cell_type": "markdown",
   "metadata": {},
   "source": [
    "#### _Exercise 2.3_"
   ]
  },
  {
   "cell_type": "markdown",
   "metadata": {},
   "source": [
    "1. Explore what you can do with the `range` function.  It can take just one number as we did above, or two as starting and ending values, or even three - the start, the end and a step value.  Try all three versions of the `range` command, and then work out how to produce the list: `[4, 11, 18, 25]`. (don't forget about the help available via `object?`)\n",
    "\n",
    "2. Find all the numbers between 0-200 which are divisible by 3 **and** 7. Hint: use the modulo/remainder `%` operator."
   ]
  },
  {
   "cell_type": "code",
   "execution_count": null,
   "metadata": {
    "collapsed": true
   },
   "outputs": [],
   "source": [
    "#  your code here.."
   ]
  },
  {
   "cell_type": "markdown",
   "metadata": {},
   "source": [
    "#### Direct and Indirect Loops"
   ]
  },
  {
   "cell_type": "markdown",
   "metadata": {},
   "source": [
    "So, `range` can get us a list that we can use to count to any number that we want, but why does it stop short of the upper limit we give it?  Why does `range(N)` mean 0..N-1 instead of 0..N or 1..N? Well, try out the following two pieces of code:"
   ]
  },
  {
   "cell_type": "code",
   "execution_count": null,
   "metadata": {
    "collapsed": true
   },
   "outputs": [],
   "source": [
    "for item in shopping_list:\n",
    "    print(item)"
   ]
  },
  {
   "cell_type": "markdown",
   "metadata": {},
   "source": [
    "and"
   ]
  },
  {
   "cell_type": "code",
   "execution_count": null,
   "metadata": {
    "collapsed": true
   },
   "outputs": [],
   "source": [
    "for i in range(len(shopping_list)):\n",
    "    print(shopping_list[i])"
   ]
  },
  {
   "cell_type": "markdown",
   "metadata": {},
   "source": [
    "They should be exactly the same: `range` behaves as it does so that you can use it to generate lists of indexes for sequence data types. In the blocks of code above, the first is an example of a direct loop, where you pull out the items one by one directly from the list. The second is an indirect list, where you step through the indices and use them to access the required elements from the list. "
   ]
  },
  {
   "cell_type": "markdown",
   "metadata": {},
   "source": [
    "Which one is better?  Generally, the direct method is clearer and more _pythonic_.  However, there are circumstances where an indirect loop is the only option.  If you have two lists of the same size, you might need to print out the corresponding elements of the two lists (although there might be better ways to do this, as well).  In this case, you can use `range` with the size of one of the lists, and then use the index to get the corresponding elements from both."
   ]
  },
  {
   "cell_type": "markdown",
   "metadata": {},
   "source": [
    "#### _Exercise 2.4_"
   ]
  },
  {
   "cell_type": "markdown",
   "metadata": {},
   "source": [
    "Start with your shopping list (or a new, shorter one to save some typing) and create a new list with the amounts you need to buy of each item.  So for example:"
   ]
  },
  {
   "cell_type": "code",
   "execution_count": null,
   "metadata": {
    "collapsed": true
   },
   "outputs": [],
   "source": [
    "shopping_list = ['bicycle pump', 'sofa', 'yellow paint']\n",
    "amounts = ['1', '7', '9'] "
   ]
  },
  {
   "cell_type": "markdown",
   "metadata": {},
   "source": [
    "Then write a loop to step through and print the item and the amount on the same line. "
   ]
  },
  {
   "cell_type": "markdown",
   "metadata": {},
   "source": [
    "## 2.3 String Formatting"
   ]
  },
  {
   "cell_type": "markdown",
   "metadata": {},
   "source": [
    "When you print out pairs of values like in the exercise above, the output is a bit boring.  It’s just a name and a number on a line.  It could be a bit prettier, or at least more nicely formatted.  As we have already seen can put a few extra strings in there to make it clearer like this,"
   ]
  },
  {
   "cell_type": "code",
   "execution_count": null,
   "metadata": {
    "collapsed": true
   },
   "outputs": [],
   "source": [
    "for i in range(len(shopping_list)):\n",
    "    print('I need to buy', amounts[i], shopping_list[i])"
   ]
  },
  {
   "cell_type": "markdown",
   "metadata": {},
   "source": [
    "which is maybe a bit better. Taking this approach is ok, but it is difficult to control the formatting, particularly when you are mixing numbers and strings. Most programming languages have some function or facility for creating formatted strings and Python is no exception."
   ]
  },
  {
   "cell_type": "markdown",
   "metadata": {},
   "source": [
    "In Python's case, formatting of strings can be taken care of in several different ways. However, since the release of Python 3.6 the new so called *f-strings* are the best option, so we will focus on these.\n",
    "\n",
    "We have three variables, `name`, `date` and `job`, which we want to substitute into some text. It's possible to control exactly the formatting of values such as dates when constructing strings like this, but for simplicity here we perform simple string substitutions at each step."
   ]
  },
  {
   "cell_type": "code",
   "execution_count": null,
   "metadata": {
    "collapsed": true
   },
   "outputs": [],
   "source": [
    "\n",
    "# variables for substitution\n",
    "name = 'Betty'\n",
    "date = '15th June 2016'\n",
    "job = 'engineer'\n",
    "\n",
    "# note the f before the ' '\n",
    "text = f'Hi, my name is {name} and I am an {job}. I have been an {job} since {date}.'\n",
    "print(text)\n"
   ]
  },
  {
   "cell_type": "markdown",
   "metadata": {},
   "source": [
    "When formatting, you start with a string containing placeholders: patterns of characters that indicate the position where you want to insert the values of your variables, and their format. The placeholders take the form of curly brackets `{}` containing a code that tells Python what to do with the variables being inserted. For example:"
   ]
  },
  {
   "cell_type": "code",
   "execution_count": null,
   "metadata": {
    "collapsed": true
   },
   "outputs": [],
   "source": [
    "animal = 'snake'\n",
    "s = f'I need to buy {3*2} {animal}s'\n",
    "s"
   ]
  },
  {
   "cell_type": "markdown",
   "metadata": {},
   "source": [
    "Don't we all? In the example above, we already put the simple expression `3*2` inside the first placeholder. Python evaluates every expression inside the curly braces before constructing the string at run time. We can even call functions and methods inside the {}: "
   ]
  },
  {
   "cell_type": "code",
   "execution_count": null,
   "metadata": {
    "collapsed": true
   },
   "outputs": [],
   "source": [
    "animal = 'snake'\n",
    "s = f'I need to buy {3*2} {animal.capitalize()}s'\n",
    "s"
   ]
  },
  {
   "cell_type": "markdown",
   "metadata": {
    "collapsed": true
   },
   "source": [
    "The placeholders can also contain information for formatting the inserted value. For example, to control level of precision on a floating point number, you can use `{:.Nf}` where `N` is the number of decimal places that you want to display."
   ]
  },
  {
   "cell_type": "code",
   "execution_count": null,
   "metadata": {
    "collapsed": true
   },
   "outputs": [],
   "source": [
    "Price = 9.527\n",
    "Number = 7\n",
    "s = f'Each mouse costs EUR {Price:.2f} and I need {Number} mice, so the total cost will be EUR {Price * Number:.2f}'\n",
    "s"
   ]
  },
  {
   "cell_type": "markdown",
   "metadata": {},
   "source": [
    "There are a lot of other formatting options that can be controlled by these patterns in placeholders e.g. you can automatically print large numbers split with commas, or you can print text in clearly-defined columns buffered with whitespace. Follow [this link](https://realpython.com/python-f-strings/#f-strings-a-new-and-improved-way-to-format-strings-in-python) for a a more in-depth overview about string formatting in Python."
   ]
  },
  {
   "cell_type": "markdown",
   "metadata": {},
   "source": [
    "#### _Exercise 2.5_"
   ]
  },
  {
   "cell_type": "markdown",
   "metadata": {},
   "source": [
    "In the example below, we have changed the program so it prints out a formatted message for each of the items in the shopping list along with the amount that needs to be bought of that item. Parts of the program are missing. You need to fill them in:"
   ]
  },
  {
   "cell_type": "code",
   "execution_count": null,
   "metadata": {
    "collapsed": true
   },
   "outputs": [],
   "source": [
    "shopping_list = ['bread', 'potatoes', 'eggs', 'flour', 'rubber duck', 'pizza', 'milk']\n",
    "amounts = ['1', '10', '12', '1', '2', '5', '1']\n",
    "--- i in range(len(---)):\n",
    "    s = f'I need to buy --- ---'\n",
    "    print(---)"
   ]
  },
  {
   "cell_type": "markdown",
   "metadata": {},
   "source": [
    "### 2.4 Dictionaries - Looking Up Data"
   ]
  },
  {
   "cell_type": "markdown",
   "metadata": {},
   "source": [
    "Keeping data in parallel lists like this is fine if you are really really careful and you don’t need to change the lists that much. Otherwise, it is prone to errors. One way of getting around this (and our last new data type) is to use a _dictionary_. Dictionaries are a different kind of container: instead of holding just single values, they hold key-value pairs. So, when you want to look up a value in the dictionary, you specify the key and the dictionary returns the value. An example might help: "
   ]
  },
  {
   "cell_type": "code",
   "execution_count": null,
   "metadata": {
    "collapsed": true
   },
   "outputs": [],
   "source": [
    "studentNumbers = { 'Bioscience Technology': 16, \n",
    "                   'Computational Biology': 12,\n",
    "                   'Post-Genomic Biology': 20,\n",
    "                   'Ecology and Environmental Management': 3,\n",
    "                   'Maths in the Living Environment': 0\n",
    "                 }\n",
    "studentNumbers['Bioscience Technology']"
   ]
  },
  {
   "cell_type": "markdown",
   "metadata": {},
   "source": [
    "The data is enclosed in curly brackets and is a comma separated list of key-value pairs. The key and value are separated by `:`. The key can be any immutable type (so, mainly strings, numbers or tuples). Notice I have split the assignment statement to create the dictionary over several lines, to make it easier to read. Normally, Python expects a command to be on a single line, but sometimes it recognises that a command isn’t finished and lets you continue on the next line. This mainly happens when you haven’t closed a set of brackets, which in the above example was deliberate, but in my case is usually because I have forgotten. Python will continue to prompt for input until you close the bracket properly before trying to execute the command. "
   ]
  },
  {
   "cell_type": "markdown",
   "metadata": {},
   "source": [
    "Dictionaries themselves are a mutable datatype, so the values associated with a key can be changed:"
   ]
  },
  {
   "cell_type": "code",
   "execution_count": null,
   "metadata": {
    "collapsed": true
   },
   "outputs": [],
   "source": [
    "studentNumbers['Bioscience Technology'] += 1 # x += 1 does the same as x = x + 1\n",
    "studentNumbers['Bioscience Technology']"
   ]
  },
  {
   "cell_type": "markdown",
   "metadata": {},
   "source": [
    "If you try to assign a value to a key that doesn’t exist, Python creates the entry for you automatically:"
   ]
  },
  {
   "cell_type": "code",
   "execution_count": null,
   "metadata": {
    "collapsed": true
   },
   "outputs": [],
   "source": [
    "studentNumbers['Gardening'] = 10\n",
    "studentNumbers['Gardening']"
   ]
  },
  {
   "cell_type": "markdown",
   "metadata": {},
   "source": [
    "Getting rid of entries in the dictionary is easy as well, using the `del` statement: "
   ]
  },
  {
   "cell_type": "code",
   "execution_count": null,
   "metadata": {
    "collapsed": true
   },
   "outputs": [],
   "source": [
    "del studentNumbers['Maths in the Living Environment']\n",
    "studentNumbers"
   ]
  },
  {
   "cell_type": "markdown",
   "metadata": {},
   "source": [
    "If we know the keys in the dictionary we can look up the values.  If we want to loop over the values in the dictionary, we could create a list of the keys and loop over that, but that’s no better than keeping the keys and values in separate lists.  Instead, Python can create a list of the keys for you when you need it: "
   ]
  },
  {
   "cell_type": "code",
   "execution_count": null,
   "metadata": {
    "collapsed": true
   },
   "outputs": [],
   "source": [
    "studentNumbers.keys()"
   ]
  },
  {
   "cell_type": "markdown",
   "metadata": {},
   "source": [
    "We can now put this into a `for` loop, with or without sorting it first.  If we are not bothered about the order, then we can use `for` and `in` to loop directly over the keys in the dictionary: "
   ]
  },
  {
   "cell_type": "code",
   "execution_count": null,
   "metadata": {
    "collapsed": true
   },
   "outputs": [],
   "source": [
    "for key in studentNumbers:\n",
    "    print(key, studentNumbers[key])"
   ]
  },
  {
   "cell_type": "markdown",
   "metadata": {},
   "source": [
    "That should work as expected. Python doesn’t make any promises about the order the keys will be supplied in: they will be given the way Python thinks is best. It almost certainly won’t be either the order the keys were added to the dictionary or alphabetical order*."
   ]
  },
  {
   "cell_type": "markdown",
   "metadata": {},
   "source": [
    "*__Note__: The way that dictionaries are implemented in Python fundamentally changed in v3.6, resulting in them taking up ~1/2 the space and working ~2x as fast as they used to. A side effect of this is that dictionary objects in Python 3.6 remember the order that entries were created in and you should be able to access their entries in this order. Regardless, in the examples and exercises in this course, we assume that this order cannot be relied upon - we don't expect everyone to be using v3.6 or above, and anyway this is not yet considered a 'stable' feature of the language i.e. future versions of Python are not guaranteed to preserve the order of dictionaries. When writing your own code, if you want to access dictionary entries in a particular order, you should make sure to do so by providing keys in a specific order, as we will show below.*"
   ]
  },
  {
   "cell_type": "markdown",
   "metadata": {},
   "source": [
    "What about indexing like we used for lists and strings?"
   ]
  },
  {
   "cell_type": "code",
   "execution_count": null,
   "metadata": {
    "collapsed": true
   },
   "outputs": [],
   "source": [
    "studentNumbers[2] # throws KeyError"
   ]
  },
  {
   "cell_type": "markdown",
   "metadata": {},
   "source": [
    "This throws a `KeyError`, a common error when working with dictionaries. What that means is, that instead of retrieving the 3rd element (remember zero-based indexing) Python tries to lookup the value for a key `2`. As this key is not present in our dictionary, we get the error above. Let's reason why **indexing can't work for dictionaries**: if something is *unordered*, there simply is no 1st, 2nd and so on element! \n",
    "\n",
    "*Note: If you wonder how a group of objects can be represented without any order, think about mathematical sets: https://en.wikipedia.org/wiki/Set_(mathematics)*\n",
    "\n",
    "So how do we check if a certain `key` is present in the dictionary? Here again Python magic at work:"
   ]
  },
  {
   "cell_type": "code",
   "execution_count": null,
   "metadata": {
    "collapsed": true
   },
   "outputs": [],
   "source": [
    "print( 2 in studentNumbers )\n",
    "print('Computational Biology' in studentNumbers)"
   ]
  },
  {
   "cell_type": "markdown",
   "metadata": {},
   "source": [
    "We can use the `in` keyword directly on dictionaries to test if a certain key is present. Note that `in` checks for membership within the `dict.keys()` set, not within the values! To see why and how that works, try casting the dictionary to a list:"
   ]
  },
  {
   "cell_type": "code",
   "execution_count": null,
   "metadata": {
    "collapsed": true
   },
   "outputs": [],
   "source": [
    "list(studentNumbers) # retrieves (only) the keys as list"
   ]
  },
  {
   "cell_type": "markdown",
   "metadata": {},
   "source": [
    "As well as getting the keys, you could also get the values as a list using `.values()`. Slightly more efficient is to get the key-value pairs in one step using `.items()`:"
   ]
  },
  {
   "cell_type": "code",
   "execution_count": null,
   "metadata": {
    "collapsed": true
   },
   "outputs": [],
   "source": [
    "studentNumbers.values()"
   ]
  },
  {
   "cell_type": "code",
   "execution_count": null,
   "metadata": {
    "collapsed": true
   },
   "outputs": [],
   "source": [
    "studentNumbers.items() "
   ]
  },
  {
   "cell_type": "markdown",
   "metadata": {},
   "source": [
    "Have a careful look at this output. The square brackets show that this is a sequence of things. But each item in that list is in fact two pieces of data in round brackets. We came across this briefly above, and it is a tuple. There are two ways we can use this in a `for` loop. Firstly, we can use a variable which will contain the tuple and unpack it in the body of the loop: "
   ]
  },
  {
   "cell_type": "code",
   "execution_count": null,
   "metadata": {
    "collapsed": true
   },
   "outputs": [],
   "source": [
    "for data in studentNumbers.items():\n",
    "    print(data[0], data[1])"
   ]
  },
  {
   "cell_type": "markdown",
   "metadata": {},
   "source": [
    "or (this is usually my preference) you can unpack the data directly and more explicitly in the `for` statement:"
   ]
  },
  {
   "cell_type": "code",
   "execution_count": null,
   "metadata": {
    "collapsed": true
   },
   "outputs": [],
   "source": [
    "for course, students in studentNumbers.items():\n",
    "    print(course, students)"
   ]
  },
  {
   "cell_type": "markdown",
   "metadata": {},
   "source": [
    "This is a little terse, so let's use the f-strings that were introduced earlier."
   ]
  },
  {
   "cell_type": "code",
   "execution_count": null,
   "metadata": {
    "collapsed": true
   },
   "outputs": [],
   "source": [
    "for course, students in studentNumbers.items():\n",
    "    print(f'Course {course} has {students} students')"
   ]
  },
  {
   "cell_type": "markdown",
   "metadata": {},
   "source": [
    "The output of `.items()` is our first example of a compound data structure (in this case a set of tuples). The ability to easily construct arbitrarily complex data structures like this is one of the most powerful features of Python. In our simple example here, both the *keys* and the *values* where of primitive types (string and int). In real-world applications the keys typically stay simple (to represent ID's, names or also numbers if you want), but the values can be complex data structures (say an RNAseq output)."
   ]
  },
  {
   "cell_type": "markdown",
   "metadata": {},
   "source": [
    "#### _Exercise 2.6_"
   ]
  },
  {
   "cell_type": "markdown",
   "metadata": {},
   "source": [
    "Go back to your shopping code from exercise 2.5 and change the program so that the amounts and shopping items are stored in a dictionary, then print out the items and their respective amounts by looping over the dictionary. Do it twice, once looping over the the dictionary to get the keys (or use the keys to get the values) and once by getting the key-value pairs directly from the dictionary. (Hint: don't be afraid to declare the variable `shopping_list = {...}` as a dictionary, the `_list` in the variable name is just semantics for us feeble humans. It's extremely uncommon to put the variable type in the variable name, so other programmers would typically not expect a Python `list` just because you have a variable named like `fancy_list`)"
   ]
  },
  {
   "cell_type": "markdown",
   "metadata": {},
   "source": [
    "### Functions -  Compartmentalization of Code"
   ]
  },
  {
   "cell_type": "markdown",
   "metadata": {},
   "source": [
    "Often we come across situations where we would want to do the same type of calculation several times in a single program. Many of the Python libraries provide functions for doing just this (we already used `len()` for example). However, you can define also your own functions.  This can be done anywhere in your program, but is conventionally done at the beginning. In any case, the important thing is that you define a function before you try to use it in your program."
   ]
  },
  {
   "cell_type": "markdown",
   "metadata": {},
   "source": [
    "As a trivial example, here is a function definition which squares a number: "
   ]
  },
  {
   "cell_type": "code",
   "execution_count": null,
   "metadata": {
    "collapsed": true
   },
   "outputs": [],
   "source": [
    "def square(x):\n",
    "    return x*x"
   ]
  },
  {
   "cell_type": "markdown",
   "metadata": {},
   "source": [
    "When Python comes across this in your program, it does nothing visible. Only afterwards when you call the function does it produce any effect. The `x` between the brackets in the `def` line is called an argument, and acts as a placeholder for whatever (in this case) you want to square. Once the function is defined, you can *call* it using anything in place of the `x`. For example to square the number 3, you would use:"
   ]
  },
  {
   "cell_type": "code",
   "execution_count": null,
   "metadata": {
    "collapsed": true
   },
   "outputs": [],
   "source": [
    "square(3)"
   ]
  },
  {
   "cell_type": "markdown",
   "metadata": {},
   "source": [
    "If you wanted to store the result in a variable, you could use"
   ]
  },
  {
   "cell_type": "code",
   "execution_count": null,
   "metadata": {
    "collapsed": true
   },
   "outputs": [],
   "source": [
    "y = square(3)"
   ]
  },
  {
   "cell_type": "markdown",
   "metadata": {},
   "source": [
    "and you could even pass a variable into the function:"
   ]
  },
  {
   "cell_type": "code",
   "execution_count": null,
   "metadata": {
    "collapsed": true
   },
   "outputs": [],
   "source": [
    "z = square(y)\n",
    "z"
   ]
  },
  {
   "cell_type": "markdown",
   "metadata": {},
   "source": [
    "Functions are incredibly versatile and a single function may take many arguments. They can contain more than one line of code, and can do anything that you can do in other parts of a Python program. You will see a much more complex example in Worksheet 3. Compartmentalizing code like this means that you don’t have to type it out every time the task is repeated in your program, and if you need to change it, it will only have to be changed once."
   ]
  },
  {
   "cell_type": "markdown",
   "metadata": {},
   "source": [
    "#### _Exercise 2.7_"
   ]
  },
  {
   "cell_type": "markdown",
   "metadata": {},
   "source": [
    "In worksheet one, exercise 1.1, you should have worked out an expression for calculating the hypotenuse of a right angled triangle given the other two sides. Now, complete function below, which should calculate the hypotenuse, and test it by calling"
   ]
  },
  {
   "cell_type": "markdown",
   "metadata": {},
   "source": [
    "`hypot(3,4)`"
   ]
  },
  {
   "cell_type": "markdown",
   "metadata": {},
   "source": [
    "and it should return the value 5."
   ]
  },
  {
   "cell_type": "code",
   "execution_count": null,
   "metadata": {
    "collapsed": true
   },
   "outputs": [],
   "source": [
    "--- hypot(---, sideb)---\n",
    "    h = (sidea**--- --- ---**2)**0.5\n",
    "    return ---"
   ]
  },
  {
   "cell_type": "markdown",
   "metadata": {},
   "source": [
    "#### Exercise 2.8\n",
    "\n",
    "One possible solution for exercise 2.6 would look like:\n",
    "```Python\n",
    "shopping_list = {'bread' : 1, 'potatoes' : 10, 'eggs' : 12, 'flour' : 1,\n",
    "            'rubber duck' : 2, 'pizza' : 5, 'milk' : 1}\n",
    "\n",
    "for key in shopping_list:\n",
    "    s = f'I need to buy {shopping_list[key]} {key}'\n",
    "    print(s)\n",
    "```\n",
    "\n",
    "Make a function called `go_shopping` out of it, which accepts a dictionary encoding the shopping list.  Define a different shopping list, e.g. `birthday_shopping = {'candles' : 7, ...}` and convince yourself that you can now re-use this function for arbitrary shopping lists."
   ]
  },
  {
   "cell_type": "code",
   "execution_count": null,
   "metadata": {
    "collapsed": true
   },
   "outputs": [],
   "source": [
    "# your code here.."
   ]
  },
  {
   "cell_type": "markdown",
   "metadata": {},
   "source": [
    "#### Let's Talk about Scope (optional)\n",
    "\n",
    "*Scope* refers to the visibility of variables. Let's illustrate this important concept with the following functions:"
   ]
  },
  {
   "cell_type": "code",
   "execution_count": null,
   "metadata": {
    "collapsed": true
   },
   "outputs": [],
   "source": [
    "def add_two(x):\n",
    "    x = x+2\n",
    "    return x\n",
    "\n",
    "def set_to_zero(dic, key):\n",
    "    dic[key] = 0\n",
    "    return dic"
   ]
  },
  {
   "cell_type": "markdown",
   "metadata": {},
   "source": [
    "Both of them manipulate the first argument and return a result of that manipulation. Here is how they work:"
   ]
  },
  {
   "cell_type": "code",
   "execution_count": null,
   "metadata": {
    "collapsed": true
   },
   "outputs": [],
   "source": [
    "x = 3\n",
    "x2 = add_two(x)\n",
    "print( f'add_two(): Input {x}, Output {x2}')\n",
    "\n",
    "print() # print an empty line for more visual clarity\n",
    "\n",
    "flowers = { 'roses' : 2, 'tulips' : 5}\n",
    "new_flowers = set_to_zero(flowers, 'tulips')\n",
    "print( f'set_to_zero(): Input {flowers}, Output {new_flowers}')"
   ]
  },
  {
   "cell_type": "markdown",
   "metadata": {},
   "source": [
    "Can you see it? Are you also feeling like starring into an abyss? If your answer is two times yes, then don't worry: I still feel exactly the same way!\n",
    "\n",
    "So what happened here is that after calling `add_two` the input `x` remained unchanged and we got the expected result. However, after calling `set_to_zero` both the input **and** the output of the function changed. How is that possible? Well, the answer can be quite long and we obviously don't want to get lost in technical details right away, yet we still have to sort out what happened. Let's change the definition of the first function slightly:"
   ]
  },
  {
   "cell_type": "code",
   "execution_count": null,
   "metadata": {
    "collapsed": true
   },
   "outputs": [],
   "source": [
    "def add_two(number):\n",
    "    number = number+2 # here a new variable get's declared!\n",
    "    return number\n",
    "\n",
    "x = 3\n",
    "result = add_two(x)\n",
    "print( f'add_two(): Input {x}, Output {x2}')\n",
    "print(number) # throws a NameError\n"
   ]
  },
  {
   "cell_type": "markdown",
   "metadata": {},
   "source": [
    "As you can see, the function works exactly as before (we get our output, and the input is unchanged). Yet, when we try to access a variable called `number` outside of the function, we get a `NameError` meaning that it's unknown to the interpreter. In technical terms one would say that the variable `number` \"lives\" only in the *scope* of the function `add_two`. As soon as we exit that function it's mere existence ended, and we really have no way of getting to it again. Here is another example:"
   ]
  },
  {
   "cell_type": "code",
   "execution_count": null,
   "metadata": {
    "collapsed": true
   },
   "outputs": [],
   "source": [
    "x = 3\n",
    "def foo(x):\n",
    "    # this is a different 'x'\n",
    "    x = 'a string?' \n",
    "    return x\n",
    "\n",
    "print(f'x = {x}, output of foo(x) is {foo(x)}!')"
   ]
  },
  {
   "cell_type": "markdown",
   "metadata": {},
   "source": [
    "Ok, that wasn't too bad right? Now on to the second function:"
   ]
  },
  {
   "cell_type": "code",
   "execution_count": null,
   "metadata": {
    "collapsed": true
   },
   "outputs": [],
   "source": [
    "def set_to_zero(dic, key):\n",
    "    # no new variable get's declared here\n",
    "    # we only assign a new value to one\n",
    "    # key : value pair of the dictionary\n",
    "    dic[key] = 0 \n",
    "    # that's why we return nothing here\n",
    "    # would be anyways the same object\n",
    "\n",
    "def set_to_zero2(dic, key):\n",
    "    # define a new dictionary\n",
    "    # initialized with the old data\n",
    "    new_dic = dic.copy() \n",
    "    new_dic[key] = 0\n",
    "    # return is needed here, otherwise\n",
    "    # the new_dic just perishes\n",
    "    # after the call\n",
    "    return new_dic\n",
    "\n",
    "# get a manipulated copy\n",
    "flowers = { 'roses' : 2, 'tulips' : 5}\n",
    "new_flowers = set_to_zero2(flowers, 'tulips')\n",
    "print( f'set_to_zero2(): Input {flowers}, Output {new_flowers}')\n",
    "\n",
    "# now manipulate flowers\n",
    "set_to_zero(flowers, 'tulips')\n",
    "print(f'set_to_zero(): {flowers}')"
   ]
  },
  {
   "cell_type": "markdown",
   "metadata": {},
   "source": [
    "Now we got it! Calling an explicit `.copy()` can be expensive, yet if you want to keep your original dictionary then there is no way around it. If you instead just want to manipulate what you have, don't use a `return` statement as it's only confusing.\n",
    "\n",
    "One last thing about scope's: variables which are defined at the outer indentation level are in the *global scope*, meaning that they are accessible everywhere. It is however recommended to pass variables to functions explicitly as arguments.\n",
    "```Python\n",
    "factor = 5\n",
    "\n",
    "# bad, but works\n",
    "def multi(x):\n",
    "    return x * factor\n",
    "\n",
    "# good, more clear\n",
    "def multi(x, factor):\n",
    "    return x * factor\n",
    "```\n",
    "There might be cases where global constants make sense (think of physical constants for example), then it's good practice to declare them all together at the top of your program.\n",
    "```Python\n",
    "# --- my globals ---\n",
    "k_boltzmann = 1.380648 * 1e-23\n",
    "co2_concentration = 0.02\n",
    "# ------------------\n",
    "\n",
    "...some cool stuff here...\n",
    "```\n",
    "\n",
    "So in summary *scopes* can be confusing, and that is perfectly ok in the beginning! Most of the time things will just work as you expect, but in some cases they don't. In those cases maybe write a little `foo(x)` function which contains just the piece of code causing the trouble and check what's happening.\n",
    "\n",
    "_**Note:** If you want to read more about the technical details, [this here](https://robertheaton.com/2014/02/09/pythons-pass-by-object-reference-as-explained-by-philip-k-dick/) is a good article explaining the interplay of scopes and call-by object reference_"
   ]
  },
  {
   "cell_type": "markdown",
   "metadata": {},
   "source": [
    "#### Exercise 2.9 \n",
    "\n",
    "Suppose we run a little cafe shop, and we need some items always in `storage` so that we are ready to serve our customers. Write a `fill_storage` function so that we shop exactly the amount of items needed as defined in a `target_store` dictionary. For book-keeping it would also be nice to report (print) what we actually bought to refill the storage. You won't start from scratch:"
   ]
  },
  {
   "cell_type": "code",
   "execution_count": null,
   "metadata": {
    "collapsed": true
   },
   "outputs": [],
   "source": [
    "# this is a global constant\n",
    "target_store = {'ice cream' : 12, 'cookies' : 10, 'coffee' : 20, 'milk' : 4, 'sugar' : 2}\n",
    "# --- globals end ---\n",
    "\n",
    "# that's what we actually have:\n",
    "storage = {'ice cream' : 4, 'cookies' : 7, 'coffee' : 9, 'milk' : 3, 'sugar' : 2}\n",
    "\n",
    "# target_store is a global constant\n",
    "# so our function takes only one argument:\n",
    "\n",
    "def fill_storage(storage):\n",
    "    pass\n",
    "    # your code here"
   ]
  },
  {
   "cell_type": "markdown",
   "metadata": {},
   "source": [
    "Hint: Start by just reporting for every item how much we are off the target, we need 3 more cookies for example. If that works, set the values of the `storage` accordingly.\n",
    "\n",
    "One test to see if your function does what it should is to call it 2 times in a row: the second call should report zero purchases (as the storage got already filled during the first run).\n",
    "\n",
    "**Bonus:** Now also a `price_list` is given, include a summary report about how much we spent in total during each shopping."
   ]
  },
  {
   "cell_type": "code",
   "execution_count": null,
   "metadata": {
    "collapsed": true
   },
   "outputs": [],
   "source": [
    "price_list = { 'coffee' : 4.70, 'milk' : 1.20, 'sugar' : 0.70, 'ice cream' : 3.40, 'cookies' : 5.49}"
   ]
  },
  {
   "cell_type": "markdown",
   "metadata": {},
   "source": [
    "***\n",
    "#### Summary\n",
    "\n",
    "* `for` loops can be used to repeat a block of code for each item in a list.\n",
    "* `if:` `elif:` `else:` statements can be used to choose one of a number of optional blocks of code depending on the boolean conditions in the `if` and `elif` clauses.\n",
    "* `range()` can be used to create a list of numbers, and to repeat the loop for each of those numbers, to execute the loop a given number of times.\n",
    "* String interpolation (f-strings) allows you to insert values into a string, enabling sophisticated formatting.\n",
    "* Dictionaries are another object data type which store key-value pairs.\n",
    "* The `.keys()`, `.values()` and `.items()` methods are used to get the contents of a dictionary.\n",
    "* Functions can contain pieces of code to be used repeatedly, which only need to be debugged and changed once.\n",
    "***"
   ]
  },
  {
   "cell_type": "markdown",
   "metadata": {},
   "source": [
    "#### _Debugging Exercise_"
   ]
  },
  {
   "cell_type": "markdown",
   "metadata": {},
   "source": [
    "The code below contains some typos and errors. Read the description and then follow the code, making sure you understand what each line does/is supposed to do, and correct any mistakes you encounter. Finally run the code and check that the output is the same as that indicated below.\n",
    "\n",
    "__Description:__\n",
    "\n",
    "The function `find_within_range` takes a list of numbers as input and finds all the numbers therein that fall between `upper` (default: 10) and `lower` (default: 0). The numbers within the range should be returned as a list. These should be no duplicate entries in the output i.e. if the same number occurs twice in the input, and if its value is within the specified range, it will only appear once in the output.\n",
    "\n",
    "Fix the bugs in the function definition. Some test examples are given in the subsequent cell, with expected output given in the comments."
   ]
  },
  {
   "cell_type": "code",
   "execution_count": null,
   "metadata": {
    "collapsed": true
   },
   "outputs": [],
   "source": [
    "def find_within_range(list_of_numbers, lower=0, upper=10):\n",
    "    output = {}\n",
    "    for number in list_of_numbers:\n",
    "        if 0 > number <= 10:\n",
    "            if number in output_list:\n",
    "                output.append(number)\n",
    "    return output"
   ]
  },
  {
   "cell_type": "code",
   "execution_count": null,
   "metadata": {
    "collapsed": true
   },
   "outputs": [],
   "source": [
    "print(find_within_range([-2, 14, 9, 3.14]))              # should return [9, 3.14]\n",
    "print(find_within_range([0, 5, 10, 15]))                 # should return [0, 5, 10]\n",
    "print(find_within_range([2.104, 10000, -435, 2.104]))    # should return [2.104]\n",
    "print(find_within_range([1, 2, 3, 4], lower=2, upper=6)) # should return [2, 3, 4]"
   ]
  },
  {
   "cell_type": "markdown",
   "metadata": {},
   "source": [
    "\n",
    "### Spyder intro\n",
    "Using an editor instead of the shell allows you to quickly go back and change code that you've already written, which can make it easier to correct typos, add additional lines, and 'debug' your script to help figure out where an error or unwanted behaviour is occurring. Although you can use the command history at the shell prompt to access your previous lines of code, it is often easier to keep your scripting separate from the output. Later, we will see an example of where using an editor is really useful."
   ]
  }
 ],
 "metadata": {
  "kernelspec": {
   "display_name": "Python 3",
   "language": "python",
   "name": "python3"
  },
  "language_info": {
   "codemirror_mode": {
    "name": "ipython",
    "version": 3
   },
   "file_extension": ".py",
   "mimetype": "text/x-python",
   "name": "python",
   "nbconvert_exporter": "python",
   "pygments_lexer": "ipython3",
   "version": "3.6.1"
  }
 },
 "nbformat": 4,
 "nbformat_minor": 1
}
